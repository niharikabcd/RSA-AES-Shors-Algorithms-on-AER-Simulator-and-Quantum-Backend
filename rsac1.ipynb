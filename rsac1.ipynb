{
  "cells": [
    {
      "cell_type": "markdown",
      "metadata": {},
      "source": [
        "RSA ALGORIHTM IMPLEMENTATION ON CPU/GPU"
      ]
    },
    {
      "cell_type": "code",
      "execution_count": null,
      "metadata": {
        "colab": {
          "base_uri": "https://localhost:8080/"
        },
        "id": "Hgev_tobnPq_",
        "outputId": "54a6f92e-c28d-4f20-d307-bede0a94ed4e"
      },
      "outputs": [
        {
          "name": "stdout",
          "output_type": "stream",
          "text": [
            "Requirement already satisfied: cryptography in /usr/local/lib/python3.10/dist-packages (42.0.7)\n",
            "Requirement already satisfied: cffi>=1.12 in /usr/local/lib/python3.10/dist-packages (from cryptography) (1.16.0)\n",
            "Requirement already satisfied: pycparser in /usr/local/lib/python3.10/dist-packages (from cffi>=1.12->cryptography) (2.22)\n"
          ]
        }
      ],
      "source": [
        "pip install cryptography"
      ]
    },
    {
      "cell_type": "code",
      "execution_count": null,
      "metadata": {
        "colab": {
          "base_uri": "https://localhost:8080/"
        },
        "id": "Tcdb15Hkn1Fx",
        "outputId": "fb24dbad-7150-4881-db95-0969fa8c96b1"
      },
      "outputs": [
        {
          "name": "stdout",
          "output_type": "stream",
          "text": [
            "Key Generation Time: 0.03011918067932129 seconds\n",
            "Enter the message to encrypt: hello\n",
            "Encryption Time: 0.0007681846618652344 seconds\n",
            "Encrypted message: b'\\x92\\x9c\\x98\\x7f\\x9f*h\\x0e\\x91\\xb5u(\\xb0*x\\xaa\\xd7\\x8f\\x08\\xdfdzh\\x88\\xca\\x9e\\xe4I#d\\xe7b[O\\xb1\\x9b\\xd0\\xd8\\x80\\xd8ov*|Cl\\x89c{\\xaf\\xadpB\\xca\\xe1\\x02\\xfb\\xab\\x0eA\\x1c\\xd1\\x81\\xe3`\\xfcg\\x13Y\\xd8Q\\'\\x93W\\xc6\\xa9\\x05\\xe5\\t\\xd51\\x85\\xbbT\\xe1\\xe4\\rS\\xda\\x9fri\\xbb\\xd1\\xe0\\x87\\xf0-R\\xc7|dv\\x88\\xc0\\xed\\x19\\x92\\xd6Us)\\x90y\\xa1Q%>\\x18\\x1c\\xc9\"v\\xab\\xeb>\\xea\\xc4\\x83,\\x12\\xebA\\x11B\\x94_\\r\\xc4\\x95\\x99Qx\\x04\\xa0\\xe9 \\xcc\\xae\\x8b(\\xc1\\x88\\xd4s\\x06\\xcc8p\\xbc\\xdc\\xc7\\xda\\xa1\\xb3\\xfaJ9* \\x1c\\x12\\xe5\\xce\\xbd\\xd2\\x03\\xae\\x95a+\\xa8\\x03\\xa7G\\xed\\x96(50]\\xcc\\x9d\\xc72\\xf3K\\xde\\xc3\\x01\\x7f\\x04\\x8f\\x8b;\\xdbLZ\\xa4\\xf0\\xecH\\xa7S\\xd5u\\x0b\\x83\\xbdT=\\x80\\xc6\\xc1K\\\\B\\x9at\\xe4\\xdd3\\xccD\\x99h\\x1d\\xdf\\xdf^1c\\x13\\xc0\\x97\\xaa\\xb4~\\xc3\\x03\\xe0\\\\\\x96\\xb9m\\xec'\n",
            "Decryption Time: 0.0015404224395751953 seconds\n",
            "Decrypted message: hello\n"
          ]
        }
      ],
      "source": [
        "import time\n",
        "from cryptography.hazmat.primitives.asymmetric import rsa\n",
        "from cryptography.hazmat.primitives.asymmetric import padding\n",
        "from cryptography.hazmat.primitives import serialization, hashes\n",
        "\n",
        "# Function to generate RSA keys\n",
        "def generate_keys():\n",
        "    start_time = time.time()\n",
        "    private_key = rsa.generate_private_key(\n",
        "        public_exponent=65537,\n",
        "        key_size=2048,\n",
        "    )\n",
        "    end_time = time.time()\n",
        "    print(f\"Key Generation Time: {end_time - start_time} seconds\")\n",
        "\n",
        "    public_key = private_key.public_key()\n",
        "    return private_key, public_key\n",
        "\n",
        "# Function to encrypt a message\n",
        "def encrypt_message(public_key, message):\n",
        "    start_time = time.time()\n",
        "    ciphertext = public_key.encrypt(\n",
        "        message.encode(),\n",
        "        padding.OAEP(\n",
        "            mgf=padding.MGF1(algorithm=hashes.SHA256()),\n",
        "            algorithm=hashes.SHA256(),\n",
        "            label=None\n",
        "        )\n",
        "    )\n",
        "    end_time = time.time()\n",
        "    print(f\"Encryption Time: {end_time - start_time} seconds\")\n",
        "    return ciphertext\n",
        "\n",
        "# Function to decrypt a message\n",
        "def decrypt_message(private_key, ciphertext):\n",
        "    start_time = time.time()\n",
        "    decrypted_message = private_key.decrypt(\n",
        "        ciphertext,\n",
        "        padding.OAEP(\n",
        "            mgf=padding.MGF1(algorithm=hashes.SHA256()),\n",
        "            algorithm=hashes.SHA256(),\n",
        "            label=None\n",
        "        )\n",
        "    )\n",
        "    end_time = time.time()\n",
        "    print(f\"Decryption Time: {end_time - start_time} seconds\")\n",
        "    return decrypted_message.decode()\n",
        "\n",
        "# Main program\n",
        "def main():\n",
        "    private_key, public_key = generate_keys()\n",
        "\n",
        "    message = input(\"Enter the message to encrypt: \")\n",
        "\n",
        "    ciphertext = encrypt_message(public_key, message)\n",
        "    print(\"Encrypted message:\", ciphertext)\n",
        "\n",
        "    decrypted_message = decrypt_message(private_key, ciphertext)\n",
        "    print(\"Decrypted message:\", decrypted_message)\n",
        "\n",
        "if __name__ == \"__main__\":\n",
        "    main()\n"
      ]
    }
  ],
  "metadata": {
    "colab": {
      "provenance": []
    },
    "kernelspec": {
      "display_name": "Python 3",
      "name": "python3"
    },
    "language_info": {
      "name": "python"
    }
  },
  "nbformat": 4,
  "nbformat_minor": 0
}
