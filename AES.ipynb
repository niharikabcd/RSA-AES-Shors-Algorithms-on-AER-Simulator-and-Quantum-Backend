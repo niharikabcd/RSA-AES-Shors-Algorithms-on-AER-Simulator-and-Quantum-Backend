{
  "cells": [
    {
      "cell_type": "markdown",
      "metadata": {
        "id": "oZt9SPpPAaob"
      },
      "source": [
        "**AES ALGORITHM IN CPU/GPU**"
      ]
    },
    {
      "cell_type": "code",
      "execution_count": null,
      "metadata": {
        "colab": {
          "base_uri": "https://localhost:8080/"
        },
        "id": "pYKEb_r-9Fgu",
        "outputId": "bfda2a4e-afca-4b00-c350-64023d7e355b"
      },
      "outputs": [
        {
          "name": "stdout",
          "output_type": "stream",
          "text": [
            "Collecting pycryptodome\n",
            "  Downloading pycryptodome-3.20.0-cp35-abi3-manylinux_2_17_x86_64.manylinux2014_x86_64.whl (2.1 MB)\n",
            "\u001b[2K     \u001b[90m━━━━━━━━━━━━━━━━━━━━━━━━━━━━━━━━━━━━━━━━\u001b[0m \u001b[32m2.1/2.1 MB\u001b[0m \u001b[31m9.0 MB/s\u001b[0m eta \u001b[36m0:00:00\u001b[0m\n",
            "\u001b[?25hInstalling collected packages: pycryptodome\n",
            "Successfully installed pycryptodome-3.20.0\n"
          ]
        }
      ],
      "source": [
        "!pip install pycryptodome\n"
      ]
    },
    {
      "cell_type": "code",
      "execution_count": null,
      "metadata": {
        "colab": {
          "base_uri": "https://localhost:8080/"
        },
        "id": "KVptSdrO-viy",
        "outputId": "2d85a1c3-1049-453b-a08d-5585bbbd22a7"
      },
      "outputs": [
        {
          "name": "stdout",
          "output_type": "stream",
          "text": [
            "Original Data: b'hello'\n",
            "128-bit Key: b'M\\x9d\\xaf\\x9c\\xdc\\xf5\\x8e!\\xcb\\xd3\\xdd\\x08\\x9f\\x86cv'\n",
            "Encrypted Data (128-bit): b'+\\xedW\\x85\\xc1;\\xc1\\xa1xg.\\xfc\\xd26\\x8e\\xc2\\xcf\\n.\\xd4N@\\x1f\\x8b\\x10\\xf6#\\xd7\\xd8\\x04h\\xf3'\n",
            "Decrypted Data (128-bit): b'hello'\n",
            "Encryption Time (128-bit): 0.0004220008850097656 seconds\n",
            "Decryption Time (128-bit): 0.0002086162567138672 seconds\n",
            "192-bit Key: b'\\xe1=xoO\\xea\\x03\\x95\\xc9*R=*\\xf3\\xfb*i P\\xd9\\xb8\\xd5\\x1d\\xb4'\n",
            "Encrypted Data (192-bit): b'\\x1c\\xef\\n\\x87\\xd6\\x9c\\xbd\\xd2t:\\xf1\\xc0g{\\xa8\\\\#\\x8eD\\x0eC\\x1a\\x92R^\\xed5@\\xa4\\x17\\xd3\\x88'\n",
            "Decrypted Data (192-bit): b'hello'\n",
            "Encryption Time (192-bit): 0.00022149085998535156 seconds\n",
            "Decryption Time (192-bit): 0.00015878677368164062 seconds\n",
            "256-bit Key: b'\\x1cJ>q\\x9cLF\\xfd\\xfdE\\xe3\\xa0\\xa4\\xeaRS\\xea4f\\xe7\\x154\\x0e\\xba?\\xa4O,\\xfc\\x0f/\\xc8'\n",
            "Encrypted Data (256-bit): b'C\\x14\\n~2\\xa9|u\\xd3\\x98\\xa4\\xb2=\\xa7\\x00/Y\\xf3FE\\xab\\xb7uq]0\\x04\\x89\\xab\\x91\\x82|'\n",
            "Decrypted Data (256-bit): b'hello'\n",
            "Encryption Time (256-bit): 0.00024700164794921875 seconds\n",
            "Decryption Time (256-bit): 0.00018358230590820312 seconds\n"
          ]
        }
      ],
      "source": [
        "from Crypto.Cipher import AES\n",
        "from Crypto.Util.Padding import pad, unpad\n",
        "from Crypto.Random import get_random_bytes\n",
        "import time\n",
        "\n",
        "# Function to encrypt data\n",
        "def aes_encrypt(data, key):\n",
        "    cipher = AES.new(key, AES.MODE_CBC)\n",
        "    ct_bytes = cipher.encrypt(pad(data, AES.block_size))\n",
        "    iv = cipher.iv\n",
        "    return iv + ct_bytes\n",
        "\n",
        "# Function to decrypt data\n",
        "def aes_decrypt(enc_data, key):\n",
        "    iv = enc_data[:AES.block_size]\n",
        "    ct = enc_data[AES.block_size:]\n",
        "    cipher = AES.new(key, AES.MODE_CBC, iv)\n",
        "    pt = unpad(cipher.decrypt(ct), AES.block_size)\n",
        "    return pt\n",
        "\n",
        "# Test data\n",
        "data = b\"hello\"\n",
        "print(f\"Original Data: {data}\")\n",
        "\n",
        "# 128-bit key\n",
        "key_128 = get_random_bytes(16)\n",
        "start_time = time.time()\n",
        "encrypted_data_128 = aes_encrypt(data, key_128)\n",
        "encryption_time_128 = time.time() - start_time\n",
        "\n",
        "start_time = time.time()\n",
        "decrypted_data_128 = aes_decrypt(encrypted_data_128, key_128)\n",
        "decryption_time_128 = time.time() - start_time\n",
        "\n",
        "print(f\"128-bit Key: {key_128}\")\n",
        "print(f\"Encrypted Data (128-bit): {encrypted_data_128}\")\n",
        "print(f\"Decrypted Data (128-bit): {decrypted_data_128}\")\n",
        "print(f\"Encryption Time (128-bit): {encryption_time_128} seconds\")\n",
        "print(f\"Decryption Time (128-bit): {decryption_time_128} seconds\")\n",
        "\n",
        "# 192-bit key\n",
        "key_192 = get_random_bytes(24)\n",
        "start_time = time.time()\n",
        "encrypted_data_192 = aes_encrypt(data, key_192)\n",
        "encryption_time_192 = time.time() - start_time\n",
        "\n",
        "start_time = time.time()\n",
        "decrypted_data_192 = aes_decrypt(encrypted_data_192, key_192)\n",
        "decryption_time_192 = time.time() - start_time\n",
        "\n",
        "print(f\"192-bit Key: {key_192}\")\n",
        "print(f\"Encrypted Data (192-bit): {encrypted_data_192}\")\n",
        "print(f\"Decrypted Data (192-bit): {decrypted_data_192}\")\n",
        "print(f\"Encryption Time (192-bit): {encryption_time_192} seconds\")\n",
        "print(f\"Decryption Time (192-bit): {decryption_time_192} seconds\")\n",
        "\n",
        "# 256-bit key\n",
        "key_256 = get_random_bytes(32)\n",
        "start_time = time.time()\n",
        "encrypted_data_256 = aes_encrypt(data, key_256)\n",
        "encryption_time_256 = time.time() - start_time\n",
        "\n",
        "start_time = time.time()\n",
        "decrypted_data_256 = aes_decrypt(encrypted_data_256, key_256)\n",
        "decryption_time_256 = time.time() - start_time\n",
        "\n",
        "print(f\"256-bit Key: {key_256}\")\n",
        "print(f\"Encrypted Data (256-bit): {encrypted_data_256}\")\n",
        "print(f\"Decrypted Data (256-bit): {decrypted_data_256}\")\n",
        "print(f\"Encryption Time (256-bit): {encryption_time_256} seconds\")\n",
        "print(f\"Decryption Time (256-bit): {decryption_time_256} seconds\")\n"
      ]
    }
  ],
  "metadata": {
    "colab": {
      "provenance": []
    },
    "kernelspec": {
      "display_name": "Python 3",
      "name": "python3"
    },
    "language_info": {
      "name": "python"
    }
  },
  "nbformat": 4,
  "nbformat_minor": 0
}
